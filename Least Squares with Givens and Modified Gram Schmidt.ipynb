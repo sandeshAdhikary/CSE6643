{
 "cells": [
  {
   "cell_type": "code",
   "execution_count": 254,
   "metadata": {
    "collapsed": true
   },
   "outputs": [],
   "source": [
    "import numpy as np"
   ]
  },
  {
   "cell_type": "markdown",
   "metadata": {},
   "source": [
    "## GIVENS METHOD"
   ]
  },
  {
   "cell_type": "code",
   "execution_count": 743,
   "metadata": {
    "collapsed": true
   },
   "outputs": [],
   "source": [
    "def givens(a,b):\n",
    "    '''\n",
    "    For a vectors [a,b] return cos and sin value needed for givens rotation matrix\n",
    "    '''\n",
    "    if b == 0.0:\n",
    "        c = 1.0\n",
    "        s = 0.0\n",
    "    else:\n",
    "        if abs(b) > abs(a):\n",
    "            tau = -a/b\n",
    "            s = 1.0/(1.0 + tau**2)**0.5\n",
    "            c = s*tau\n",
    "        else:\n",
    "            tau = -b/a\n",
    "            c = 1.0/(1.0 + tau**2)**0.5\n",
    "            s = c*tau\n",
    "    return [c,s]"
   ]
  },
  {
   "cell_type": "code",
   "execution_count": 798,
   "metadata": {
    "collapsed": true
   },
   "outputs": [],
   "source": [
    "def upperTriagSolve(A,b):\n",
    "    '''\n",
    "    Solve an upper triangular system Ux = b\n",
    "    '''\n",
    "    U = A.copy()\n",
    "    sol = b.copy()\n",
    "    n = A.shape[0] #A is nxn\n",
    "    for i in range(n-1,-1,-1):\n",
    "        sol[i] = (sol[i] - np.matmul(U[i,i+1:n-1],sol[i+1:n-1]))/U[i,i]\n",
    "    return sol"
   ]
  },
  {
   "cell_type": "code",
   "execution_count": 799,
   "metadata": {
    "collapsed": true
   },
   "outputs": [],
   "source": [
    "def lsgivens(A,b):\n",
    "    '''\n",
    "    For a Matrix A and vector b, return the least square solution to Ax = b\n",
    "    '''\n",
    "    temp = A.copy() # so we don't overwrite A itself\n",
    "    m,n = temp.shape\n",
    "    \n",
    "    mat = np.c_[temp,b] #augmented matrix with b as the last column\n",
    "\n",
    "    for j in range(n):\n",
    "        for i in range(m-1,j,-1):\n",
    "            c,s = givens(mat[i-1,j],mat[i,j])\n",
    "            rotMat = np.matrix([[c,-s],[s,c]])\n",
    "            mat[i-1:i+1,j:n+1] = np.matmul(rotMat,mat[i-1:i+1,j:n+1])\n",
    "#   # Get R: the upper traingular mat\n",
    "    R = mat[0:n,0:n]\n",
    "    c = mat[0:n,n]\n",
    "    d = mat[n:m,n]\n",
    "    \n",
    "#   #Solve for x_ls\n",
    "    # The upperTriagSolve I wrote seems to have some problem, so using the built in function\n",
    "    xls = np.linalg.solve(R,c) \n",
    "    # xls = upperTriagSolve(R,c)\n",
    "    \n",
    "#   return xls\n",
    "    return xls"
   ]
  },
  {
   "cell_type": "markdown",
   "metadata": {},
   "source": [
    "Define a test mm x nn matrix A, and vector b"
   ]
  },
  {
   "cell_type": "code",
   "execution_count": 800,
   "metadata": {
    "collapsed": true
   },
   "outputs": [],
   "source": [
    "mm = 10\n",
    "nn = 3\n",
    "A = 10*np.random.rand(mm,nn)\n",
    "b = np.random.rand(mm,1)\n",
    "\n",
    "round_to_decimal = 1 #to get cleaner results"
   ]
  },
  {
   "cell_type": "markdown",
   "metadata": {},
   "source": [
    "Get the least square solution for (A,b):"
   ]
  },
  {
   "cell_type": "code",
   "execution_count": 801,
   "metadata": {},
   "outputs": [
    {
     "data": {
      "text/plain": [
       "array([ 0.01785741, -0.00216921,  0.08132083])"
      ]
     },
     "execution_count": 801,
     "metadata": {},
     "output_type": "execute_result"
    }
   ],
   "source": [
    "lsgivens(A,b)"
   ]
  },
  {
   "cell_type": "markdown",
   "metadata": {},
   "source": [
    "For comparison, here is the actual solution from numpy's built-in least square solver"
   ]
  },
  {
   "cell_type": "code",
   "execution_count": 802,
   "metadata": {},
   "outputs": [
    {
     "data": {
      "text/plain": [
       "array([[ 0.01785741],\n",
       "       [-0.00216921],\n",
       "       [ 0.08132083]])"
      ]
     },
     "execution_count": 802,
     "metadata": {},
     "output_type": "execute_result"
    }
   ],
   "source": [
    "np.linalg.lstsq(A,b)[0]"
   ]
  },
  {
   "cell_type": "markdown",
   "metadata": {},
   "source": [
    "Check the error against numpy's built in least square solver"
   ]
  },
  {
   "cell_type": "code",
   "execution_count": 803,
   "metadata": {},
   "outputs": [
    {
     "data": {
      "text/plain": [
       "0.10676730660778001"
      ]
     },
     "execution_count": 803,
     "metadata": {},
     "output_type": "execute_result"
    }
   ],
   "source": [
    "np.linalg.norm(lsgivens(A,b) - np.linalg.lstsq(A,b)[0],2)"
   ]
  },
  {
   "cell_type": "markdown",
   "metadata": {},
   "source": [
    "Our solution from givens matches that from Numpy's native least square solver."
   ]
  },
  {
   "cell_type": "markdown",
   "metadata": {},
   "source": [
    "# Modified Gram Schmidt"
   ]
  },
  {
   "cell_type": "code",
   "execution_count": 804,
   "metadata": {
    "collapsed": true
   },
   "outputs": [],
   "source": [
    "def lsmgs(A,b):\n",
    "    '''\n",
    "    For a matrix A and vector b, return the least square solution to Ax = b\n",
    "    '''\n",
    "    temp = A.copy()\n",
    "    m,n = temp.shape\n",
    "    \n",
    "    r = np.zeros((n,n))\n",
    "    q = np.zeros((m,n))\n",
    "    \n",
    "    for k in range(0,n):\n",
    "        r[k,k] = np.linalg.norm(temp[0:m,k],ord = 2)\n",
    "        q[0:m,k] = temp[0:m,k]/r[k,k]\n",
    "        \n",
    "        for j in range(k+1,n):\n",
    "            r[k,j] = np.matmul(np.transpose(q[0:m,k]),A[0:m,j])\n",
    "            temp[0:m,j] = temp[0:m,j] - q[0:m,k]*r[k,j]\n",
    "    \n",
    "    # Solve r = Q^T b\n",
    "#     xls = upperTriagSolve(r,np.matmul(np.transpose(q),b))\n",
    "    xls = np.linalg.solve(r,np.matmul(np.transpose(q),b))\n",
    "    \n",
    "    return xls"
   ]
  },
  {
   "cell_type": "markdown",
   "metadata": {},
   "source": [
    "Get the least square solution for our test (A,b):"
   ]
  },
  {
   "cell_type": "code",
   "execution_count": 805,
   "metadata": {},
   "outputs": [
    {
     "data": {
      "text/plain": [
       "array([[ 0.01785741],\n",
       "       [-0.00216921],\n",
       "       [ 0.08132083]])"
      ]
     },
     "execution_count": 805,
     "metadata": {},
     "output_type": "execute_result"
    }
   ],
   "source": [
    "lsmgs(A,b)"
   ]
  },
  {
   "cell_type": "markdown",
   "metadata": {},
   "source": [
    "For comparison, here is the actual solution from numpy's built-in least square solver"
   ]
  },
  {
   "cell_type": "code",
   "execution_count": 806,
   "metadata": {},
   "outputs": [
    {
     "data": {
      "text/plain": [
       "array([[ 0.01785741],\n",
       "       [-0.00216921],\n",
       "       [ 0.08132083]])"
      ]
     },
     "execution_count": 806,
     "metadata": {},
     "output_type": "execute_result"
    }
   ],
   "source": [
    "np.linalg.lstsq(A,b)[0]"
   ]
  },
  {
   "cell_type": "markdown",
   "metadata": {},
   "source": [
    "Our solution from givens matches that from Numpy's native least square solver."
   ]
  },
  {
   "cell_type": "markdown",
   "metadata": {},
   "source": [
    "Check the error against numpy's in built least square solver"
   ]
  },
  {
   "cell_type": "code",
   "execution_count": 807,
   "metadata": {},
   "outputs": [
    {
     "data": {
      "text/plain": [
       "9.9202069665849502e-17"
      ]
     },
     "execution_count": 807,
     "metadata": {},
     "output_type": "execute_result"
    }
   ],
   "source": [
    "np.linalg.norm(lsmgs(A,b) - np.linalg.lstsq(A,b)[0],2)"
   ]
  },
  {
   "cell_type": "markdown",
   "metadata": {},
   "source": [
    "## Test with known solution"
   ]
  },
  {
   "cell_type": "markdown",
   "metadata": {},
   "source": [
    "We want to create a problem Ax = b such that the difference in solution between the Givens and MGS solution is maximized. We know that the MGS solution is more sensitive to the condition of the matrix A and the level of orthogonalization decreases when A is close to being rank-deficient. The worst case scenario for MGS would be for a singular matrix. However, in this question want A to be full rank. \n",
    "\n",
    "So we will construct our matrix A as a rank one matrix. First, we create an arbitrary column $col$ with random entries:"
   ]
  },
  {
   "cell_type": "code",
   "execution_count": 808,
   "metadata": {},
   "outputs": [],
   "source": [
    "# mm = 10\n",
    "nn = 9\n",
    "col = np.random.rand(mm,1)"
   ]
  },
  {
   "cell_type": "markdown",
   "metadata": {},
   "source": [
    "Now, we create a vector x which is simply the list of numbers from 1 to nn."
   ]
  },
  {
   "cell_type": "code",
   "execution_count": 809,
   "metadata": {},
   "outputs": [
    {
     "data": {
      "text/plain": [
       "array([1, 2, 3, 4, 5, 6, 7, 8, 9])"
      ]
     },
     "execution_count": 809,
     "metadata": {},
     "output_type": "execute_result"
    }
   ],
   "source": [
    "x = np.array(range(1,nn+1)).reshape(nn,1)\n",
    "x.reshape(9,)"
   ]
  },
  {
   "cell_type": "markdown",
   "metadata": {},
   "source": [
    "Normalize it so $||x||_2 = 1$"
   ]
  },
  {
   "cell_type": "code",
   "execution_count": 810,
   "metadata": {},
   "outputs": [
    {
     "data": {
      "text/plain": [
       "array([[ 0.11111111],\n",
       "       [ 0.22222222],\n",
       "       [ 0.33333333],\n",
       "       [ 0.44444444],\n",
       "       [ 0.55555556],\n",
       "       [ 0.66666667],\n",
       "       [ 0.77777778],\n",
       "       [ 0.88888889],\n",
       "       [ 1.        ]])"
      ]
     },
     "execution_count": 810,
     "metadata": {},
     "output_type": "execute_result"
    }
   ],
   "source": [
    "x = x/(1.0*max(x)[0])\n",
    "x"
   ]
  },
  {
   "cell_type": "markdown",
   "metadata": {},
   "source": [
    "Now, we create a rank 1 matrix by traking $col~x^T$. This is a singular matrix."
   ]
  },
  {
   "cell_type": "code",
   "execution_count": 811,
   "metadata": {},
   "outputs": [
    {
     "name": "stdout",
     "output_type": "stream",
     "text": [
      "The rank of testA: 1\n"
     ]
    }
   ],
   "source": [
    "testA = np.matmul(col,np.transpose(x))\n",
    "print \"The rank of testA: {}\".format(np.linalg.matrix_rank(testA))"
   ]
  },
  {
   "cell_type": "markdown",
   "metadata": {},
   "source": [
    "Now, we add some noise to this matrix to make it full rank"
   ]
  },
  {
   "cell_type": "code",
   "execution_count": 812,
   "metadata": {
    "collapsed": true
   },
   "outputs": [],
   "source": [
    "noise_level = 0.1\n",
    "noise = noise_level*np.random.rand(mm,nn)\n",
    "testA = testA + noise"
   ]
  },
  {
   "cell_type": "code",
   "execution_count": 813,
   "metadata": {},
   "outputs": [
    {
     "name": "stdout",
     "output_type": "stream",
     "text": [
      "The rank of testA: 9\n"
     ]
    }
   ],
   "source": [
    "print \"The rank of testA: {}\".format(np.linalg.matrix_rank(testA))"
   ]
  },
  {
   "cell_type": "markdown",
   "metadata": {},
   "source": [
    "Now, we construct $b$ to be the exact product $Ax$:"
   ]
  },
  {
   "cell_type": "code",
   "execution_count": 814,
   "metadata": {
    "collapsed": true
   },
   "outputs": [],
   "source": [
    "b = np.matmul(testA,x)"
   ]
  },
  {
   "cell_type": "markdown",
   "metadata": {},
   "source": [
    "With this setup, we know that the solution to the least square problem must be the x we created."
   ]
  },
  {
   "cell_type": "markdown",
   "metadata": {},
   "source": [
    "Check the Givens solution:"
   ]
  },
  {
   "cell_type": "code",
   "execution_count": 815,
   "metadata": {},
   "outputs": [
    {
     "name": "stdout",
     "output_type": "stream",
     "text": [
      "x_givens =\n",
      " [[ 0.11111111]\n",
      " [ 0.22222222]\n",
      " [ 0.33333333]\n",
      " [ 0.44444444]\n",
      " [ 0.55555556]\n",
      " [ 0.66666667]\n",
      " [ 0.77777778]\n",
      " [ 0.88888889]\n",
      " [ 1.        ]]\n",
      "\n",
      "The error in givens e_1 = 1.76367464912e-14\n"
     ]
    }
   ],
   "source": [
    "x_givens = lsgivens(testA,b)\n",
    "print \"x_givens =\\n {}\".format(x_givens.reshape(nn,1))\n",
    "print \"\\nThe error in givens e_1 = {}\".format(np.linalg.norm(x_givens.reshape(nn,1) - x, 2))"
   ]
  },
  {
   "cell_type": "code",
   "execution_count": 816,
   "metadata": {},
   "outputs": [
    {
     "name": "stdout",
     "output_type": "stream",
     "text": [
      "x_givens =\n",
      " [[ 0.11111111]\n",
      " [ 0.22222222]\n",
      " [ 0.33333333]\n",
      " [ 0.44444444]\n",
      " [ 0.55555556]\n",
      " [ 0.66666667]\n",
      " [ 0.77777778]\n",
      " [ 0.88888889]\n",
      " [ 1.        ]]\n",
      "\n",
      "The error in givens e_1 = 8.46605765668e-13\n"
     ]
    }
   ],
   "source": [
    "x_mgs = lsmgs(testA,b)\n",
    "print \"x_givens =\\n {}\".format(x_mgs)\n",
    "print \"\\nThe error in givens e_1 = {}\".format(np.linalg.norm(x_mgs - x, 2))"
   ]
  },
  {
   "cell_type": "markdown",
   "metadata": {},
   "source": [
    "# Diverging Solutions"
   ]
  },
  {
   "cell_type": "markdown",
   "metadata": {},
   "source": [
    "The solutions from these two methods would be the most divergent when A is as close to singular as possible. Below, we change the level of noise added to our original singular A and see how the errors for the solutions change. We expect that for the lowest noise (when A is very close to being singular), the difference in errors would be the highest."
   ]
  },
  {
   "cell_type": "code",
   "execution_count": 817,
   "metadata": {},
   "outputs": [],
   "source": [
    "noise_range = [noise/1000.0 for noise in range(1,1000,10)]"
   ]
  },
  {
   "cell_type": "code",
   "execution_count": 818,
   "metadata": {
    "collapsed": true
   },
   "outputs": [],
   "source": [
    "x = np.array(range(1,nn+1)).reshape(nn,1)\n",
    "x = np.divide(x,1.0*max(x)[0])"
   ]
  },
  {
   "cell_type": "code",
   "execution_count": 819,
   "metadata": {
    "collapsed": true
   },
   "outputs": [],
   "source": [
    "noise = np.random.rand(mm,nn)"
   ]
  },
  {
   "cell_type": "code",
   "execution_count": 820,
   "metadata": {},
   "outputs": [],
   "source": [
    "e_givens_list = list()\n",
    "e_mgs_list = list()\n",
    "\n",
    "for noise_level in noise_range:\n",
    "    \n",
    "    # Add noise\n",
    "    noisyA = testA + noise_level*noise\n",
    "    b = np.matmul(noisyA,x)\n",
    "    \n",
    "    #Get givens solution\n",
    "    x_givens = lsgivens(noisyA,b).reshape(nn,1)\n",
    "    e_givens_list.append(np.linalg.norm(x_givens - x, 2))\n",
    "    \n",
    "#     #Get mgs solution\n",
    "    x_mgs = lsmgs(noisyA,b)\n",
    "    e_mgs_list.append(np.linalg.norm(x_mgs - x, 2))\n",
    "    "
   ]
  },
  {
   "cell_type": "code",
   "execution_count": 821,
   "metadata": {},
   "outputs": [],
   "source": [
    "import matplotlib.pyplot as plt\n",
    "%matplotlib inline  \n",
    "import math"
   ]
  },
  {
   "cell_type": "code",
   "execution_count": 822,
   "metadata": {},
   "outputs": [
    {
     "data": {
      "image/png": "[encoded data removed]",
      "text/plain": [
       "<matplotlib.figure.Figure at 0x7f4315c931d0>"
      ]
     },
     "metadata": {},
     "output_type": "display_data"
    }
   ],
   "source": [
    "plt.plot(noise_range,[math.log(x) for x in e_givens_list],label = 'Givens')\n",
    "plt.plot(noise_range,[math.log(x) for x in e_mgs_list],label = 'MGS')\n",
    "plt.xlabel('Noise Level')\n",
    "plt.ylabel('log(error)')\n",
    "plt.legend()\n",
    "plt.show()"
   ]
  },
  {
   "cell_type": "markdown",
   "metadata": {},
   "source": [
    "This (somewhat) proves our hypothesis. The difference in errors is much larger for lower levels of noise (i.e. A being closer to being rank deficient). In this regime, Givens seems to always provide lower error than MGS. This is in contrast to the earlier result on a completely random matrix A where the MGS method seemed to provide lower error."
   ]
  }
 ],
 "metadata": {
  "kernelspec": {
   "display_name": "Python 2",
   "language": "python",
   "name": "python2"
  },
  "language_info": {
   "codemirror_mode": {
    "name": "ipython",
    "version": 2
   },
   "file_extension": ".py",
   "mimetype": "text/x-python",
   "name": "python",
   "nbconvert_exporter": "python",
   "pygments_lexer": "ipython2",
   "version": "2.7.14"
  }
 },
 "nbformat": 4,
 "nbformat_minor": 2
}
