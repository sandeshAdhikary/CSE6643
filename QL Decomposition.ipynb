{
 "cells": [
  {
   "cell_type": "markdown",
   "metadata": {
    "collapsed": true
   },
   "source": [
    "# QL Decomposition using Householder Matrices    "
   ]
  },
  {
   "cell_type": "code",
   "execution_count": 69,
   "metadata": {
    "collapsed": true
   },
   "outputs": [],
   "source": [
    "import numpy as np\n",
    "import pandas as pd"
   ]
  },
  {
   "cell_type": "code",
   "execution_count": 70,
   "metadata": {
    "collapsed": true
   },
   "outputs": [],
   "source": [
    "#Create a random test vector and random test matrix\n",
    "testVec = np.random.rand(10)\n",
    "testMat = np.random.rand(10,3)"
   ]
  },
  {
   "cell_type": "markdown",
   "metadata": {},
   "source": [
    "### Building the Householder Vector"
   ]
  },
  {
   "cell_type": "markdown",
   "metadata": {},
   "source": [
    "First, we create a function to compute the Householder vector $v$ for a given vector $x$"
   ]
  },
  {
   "cell_type": "code",
   "execution_count": 71,
   "metadata": {
    "collapsed": true
   },
   "outputs": [],
   "source": [
    "def housesame(x):\n",
    "    m = len(x)\n",
    "    v = x.copy().astype(np.float)\n",
    "    ess_normSq = np.linalg.norm(x[0:m-1],ord = 2)**2 #The 2-norm squared of the essential part\n",
    "    \n",
    "    if ess_normSq == 0: #If x is already zero-ed out\n",
    "        beta = 0 #The Householder update should be the identity\n",
    "    else:\n",
    "        x_norm = np.linalg.norm(x,ord = 2) #The 2-norm of the input x\n",
    "        \n",
    "        if x[m-1] <= 0:\n",
    "            v_update = x[m-1] - x_norm\n",
    "        else:\n",
    "            v_update = x[m-1] + x_norm        \n",
    "        \n",
    "        v[m-1] = v_update\n",
    "        beta = 2/(np.linalg.norm(v,ord = 2)**2)\n",
    "        \n",
    "    return [v,beta]"
   ]
  },
  {
   "cell_type": "code",
   "execution_count": 72,
   "metadata": {},
   "outputs": [
    {
     "data": {
      "text/plain": [
       "array([  4.16333634e-17,   6.93889390e-17,   5.55111512e-17,\n",
       "         1.11022302e-16,   2.77555756e-17,   1.94289029e-16,\n",
       "         0.00000000e+00,   5.55111512e-17,   5.55111512e-17,\n",
       "        -1.59639475e+00])"
      ]
     },
     "execution_count": 72,
     "metadata": {},
     "output_type": "execute_result"
    }
   ],
   "source": [
    "v,beta = housesame(testVec)\n",
    "update = (np.identity(len(testVec)) - beta*np.outer(v,v))\n",
    "np.dot(update,testVec)"
   ]
  },
  {
   "cell_type": "markdown",
   "metadata": {},
   "source": [
    "Now, another function to create the oppositve Householder vector"
   ]
  },
  {
   "cell_type": "code",
   "execution_count": 73,
   "metadata": {
    "collapsed": true
   },
   "outputs": [],
   "source": [
    "def houseopposite(x):\n",
    "    m = len(x)\n",
    "    v = x.copy().astype(np.float)\n",
    "    ess_normSq = np.linalg.norm(x[0:m-1],ord = 2)**2 #The 2-norm squared of the essential part\n",
    "    \n",
    "    if ess_normSq == 0: #If x is already zero-ed out\n",
    "        beta = 0 #The Householder update should be the identity\n",
    "    else:\n",
    "        x_norm = np.linalg.norm(x,ord = 2) #The 2-norm of the input x\n",
    "        \n",
    "        if x[m-1] <= 0:\n",
    "            v_update = x[m-1] + x_norm\n",
    "        else:\n",
    "            v_update = x[m-1] - x_norm        \n",
    "        \n",
    "        v[m-1] = v_update\n",
    "        beta = 2/(np.linalg.norm(v,ord = 2)**2)\n",
    "        \n",
    "    return [v,beta]"
   ]
  },
  {
   "cell_type": "code",
   "execution_count": 74,
   "metadata": {},
   "outputs": [
    {
     "data": {
      "text/plain": [
       "array([  0.00000000e+00,  -1.11022302e-16,   0.00000000e+00,\n",
       "        -5.55111512e-17,  -4.16333634e-17,  -5.55111512e-17,\n",
       "        -1.38777878e-17,  -5.55111512e-17,   5.55111512e-17,\n",
       "         1.59639475e+00])"
      ]
     },
     "execution_count": 74,
     "metadata": {},
     "output_type": "execute_result"
    }
   ],
   "source": [
    "#Check the output\n",
    "v,beta = houseopposite(testVec)\n",
    "update = (np.identity(len(testVec)) - beta*np.outer(v,v))\n",
    "np.dot(update,testVec)"
   ]
  },
  {
   "cell_type": "code",
   "execution_count": 75,
   "metadata": {
    "collapsed": true
   },
   "outputs": [],
   "source": [
    "# All elements except the last one are close to numpy machine precision 2.2204460492503131e-16"
   ]
  },
  {
   "cell_type": "markdown",
   "metadata": {},
   "source": [
    "### Applying the Householder Matrices"
   ]
  },
  {
   "cell_type": "code",
   "execution_count": 78,
   "metadata": {
    "collapsed": true
   },
   "outputs": [],
   "source": [
    "def householdersame(A,precision = 10):\n",
    "    rows,cols = np.shape(A)\n",
    "    q = np.identity(rows)\n",
    "    \n",
    "    for k in range(cols,0,-1):\n",
    "        [v,beta] = housesame(A[0:(rows-(cols-k)),k-1])\n",
    "        p = np.identity(len(v)) - beta*np.outer(v,v)\n",
    "        update = np.identity(rows)\n",
    "        update[0:np.shape(p)[0],0:np.shape(p)[1]] = p\n",
    "        A = np.matmul(update,A) \n",
    "    \n",
    "    #Store Q\n",
    "    q = np.matmul(update,q)\n",
    "\n",
    "    \n",
    "    #Now, permute the rows of A to get the lower triangular part on the top\n",
    "    Ap = A.copy()\n",
    "    Ap[0:cols,:]  = A[rows - cols:rows,:]\n",
    "    Ap[rows - cols:rows,:]  = A[0:cols,:]\n",
    "        \n",
    "    return [q.round(precision),Ap.round(precision)]"
   ]
  },
  {
   "cell_type": "code",
   "execution_count": 79,
   "metadata": {},
   "outputs": [
    {
     "name": "stdout",
     "output_type": "stream",
     "text": [
      "[[ 0.2688  0.5115  0.9645]\n",
      " [ 0.2495  0.0274  0.9875]\n",
      " [ 0.4353  0.1027  0.0219]\n",
      " [ 0.5178  0.3178  0.0602]\n",
      " [ 0.8767  0.4434  0.9587]\n",
      " [ 0.8628  0.7484  0.5724]\n",
      " [ 0.667   0.1453  0.3884]\n",
      " [ 0.788   0.1539  0.9882]\n",
      " [ 0.8844  0.1161  0.903 ]\n",
      " [ 0.5003  0.4942  0.5335]]\n",
      "~~~~~~~\n",
      "[[ 0.76 -0.18  0.19  0.18  0.07  0.12  0.18  0.53  0.    0.  ]\n",
      " [-0.18  0.87  0.14  0.13  0.05  0.09  0.13  0.38  0.    0.  ]\n",
      " [ 0.19  0.14  0.86 -0.14 -0.05 -0.09 -0.14 -0.4   0.    0.  ]\n",
      " [ 0.18  0.13 -0.14  0.87 -0.05 -0.09 -0.14 -0.39  0.    0.  ]\n",
      " [ 0.07  0.05 -0.05 -0.05  0.98 -0.03 -0.05 -0.14  0.    0.  ]\n",
      " [ 0.12  0.09 -0.09 -0.09 -0.03  0.94 -0.09 -0.26  0.    0.  ]\n",
      " [ 0.18  0.13 -0.14 -0.14 -0.05 -0.09  0.86 -0.4   0.    0.  ]\n",
      " [ 0.53  0.38 -0.4  -0.39 -0.14 -0.26 -0.4  -0.14  0.    0.  ]\n",
      " [ 0.    0.    0.    0.    0.    0.    0.    0.    1.    0.  ]\n",
      " [ 0.    0.    0.    0.    0.    0.    0.    0.    0.    1.  ]]\n",
      "[[-0.95  0.   -0.  ]\n",
      " [ 0.59  0.84 -0.  ]\n",
      " [-1.72 -0.85 -2.32]\n",
      " [-0.   -0.    0.  ]\n",
      " [ 0.    0.    0.  ]\n",
      " [-0.   -0.    0.  ]\n",
      " [-0.    0.   -0.  ]\n",
      " [ 0.    0.    0.  ]\n",
      " [ 0.    0.    0.  ]\n",
      " [-0.   -0.   -0.  ]]\n"
     ]
    }
   ],
   "source": [
    "print testMat.round(4)\n",
    "print \"~~~~~~~\"\n",
    "[q,lower] = householdersame(testMat,precision = 2)\n",
    "print q\n",
    "print lower"
   ]
  },
  {
   "cell_type": "code",
   "execution_count": 80,
   "metadata": {},
   "outputs": [
    {
     "name": "stdout",
     "output_type": "stream",
     "text": [
      "[[-0.95  0.   -0.  ]\n",
      " [ 0.59  0.84 -0.  ]\n",
      " [-1.72 -0.85 -2.32]\n",
      " [-0.   -0.    0.  ]\n",
      " [ 0.    0.    0.  ]\n",
      " [-0.   -0.    0.  ]\n",
      " [-0.    0.   -0.  ]\n",
      " [ 0.    0.    0.  ]\n",
      " [ 0.    0.    0.  ]\n",
      " [-0.   -0.   -0.  ]]\n"
     ]
    }
   ],
   "source": [
    "#Look at just the lower triag matrix\n",
    "print lower"
   ]
  },
  {
   "cell_type": "code",
   "execution_count": 81,
   "metadata": {
    "collapsed": true
   },
   "outputs": [],
   "source": [
    "def householderopposite(A,precision = 10):\n",
    "    rows,cols = np.shape(A)\n",
    "    q = np.identity(rows)\n",
    "\n",
    "    for k in range(cols,0,-1):\n",
    "        [v,beta] = houseopposite(A[0:(rows-(cols-k)),k-1])\n",
    "        p = np.identity(len(v)) - beta*np.outer(v,v)\n",
    "        update = np.identity(rows)\n",
    "        update[0:np.shape(p)[0],0:np.shape(p)[1]] = p\n",
    "        A = np.matmul(update,A) \n",
    "    \n",
    "    #Store Q\n",
    "    q = np.matmul(update,q)\n",
    "\n",
    "    \n",
    "    #Now, permute the rows of A to get the lower triangular part on the top\n",
    "    Ap = A.copy()\n",
    "    Ap[0:cols,:]  = A[rows - cols:rows,:]\n",
    "    Ap[rows - cols:rows,:]  = A[0:cols,:]\n",
    "        \n",
    "    return [q.round(precision),Ap.round(precision)]"
   ]
  },
  {
   "cell_type": "code",
   "execution_count": 82,
   "metadata": {},
   "outputs": [
    {
     "name": "stdout",
     "output_type": "stream",
     "text": [
      "Test Matrix:\n",
      "[[ 0.2688  0.5115  0.9645]\n",
      " [ 0.2495  0.0274  0.9875]\n",
      " [ 0.4353  0.1027  0.0219]\n",
      " [ 0.5178  0.3178  0.0602]\n",
      " [ 0.8767  0.4434  0.9587]\n",
      " [ 0.8628  0.7484  0.5724]\n",
      " [ 0.667   0.1453  0.3884]\n",
      " [ 0.788   0.1539  0.9882]\n",
      " [ 0.8844  0.1161  0.903 ]\n",
      " [ 0.5003  0.4942  0.5335]]\n",
      "Q:\n",
      "[[ 0.2732 -0.2322  0.3065  0.1374 -0.0534 -0.222   0.3219 -0.7765  0.      0.    ]\n",
      " [-0.2322  0.9258  0.0979  0.0439 -0.0171 -0.0709  0.1028 -0.2481  0.      0.    ]\n",
      " [ 0.3065  0.0979  0.8708 -0.0579  0.0225  0.0936 -0.1357  0.3274  0.      0.    ]\n",
      " [ 0.1374  0.0439 -0.0579  0.974   0.0101  0.042  -0.0608  0.1468  0.      0.    ]\n",
      " [-0.0534 -0.0171  0.0225  0.0101  0.9961 -0.0163  0.0236 -0.057   0.      0.    ]\n",
      " [-0.222  -0.0709  0.0936  0.042  -0.0163  0.9322  0.0983 -0.2371  0.      0.    ]\n",
      " [ 0.3219  0.1028 -0.1357 -0.0608  0.0236  0.0983  0.8575  0.3438  0.      0.    ]\n",
      " [-0.7765 -0.2481  0.3274  0.1468 -0.057  -0.2371  0.3438  0.1705  0.      0.    ]\n",
      " [ 0.      0.      0.      0.      0.      0.      0.      0.      1.      0.    ]\n",
      " [ 0.      0.      0.      0.      0.      0.      0.      0.      0.      1.    ]]\n",
      "L:\n",
      "[[ 0.953  -0.      0.    ]\n",
      " [-0.5892 -0.843   0.    ]\n",
      " [ 1.7171  0.85    2.3202]\n",
      " [-0.     -0.      0.    ]\n",
      " [ 0.     -0.     -0.    ]\n",
      " [ 0.     -0.      0.    ]\n",
      " [-0.     -0.     -0.    ]\n",
      " [ 0.     -0.      0.    ]\n",
      " [ 0.      0.     -0.    ]\n",
      " [-0.     -0.     -0.    ]]\n"
     ]
    }
   ],
   "source": [
    "print \"Test Matrix:\"\n",
    "print testMat.round(4)\n",
    "\n",
    "[q,lower] = householderopposite(testMat,precision = 4)\n",
    "print \"Q:\"\n",
    "print q\n",
    "print \"L:\"\n",
    "print lower"
   ]
  },
  {
   "cell_type": "markdown",
   "metadata": {},
   "source": [
    "## Cancellation Error Test"
   ]
  },
  {
   "cell_type": "code",
   "execution_count": 83,
   "metadata": {
    "collapsed": true
   },
   "outputs": [],
   "source": [
    "# Create the bad matrix\n",
    "badMat = np.random.rand(10,2)\n",
    "badMat[len(badMat)-2,0] = 1*10**10\n",
    "badMat[len(badMat)-1,1] = 1*10**10"
   ]
  },
  {
   "cell_type": "code",
   "execution_count": 84,
   "metadata": {},
   "outputs": [
    {
     "data": {
      "text/plain": [
       "array([[  3.88717775e-01,   8.62741507e-01],\n",
       "       [  8.37233359e-01,   9.59556286e-02],\n",
       "       [  2.49542282e-01,   5.69735992e-01],\n",
       "       [  9.85508213e-01,   8.39130382e-01],\n",
       "       [  3.36109676e-01,   8.82079434e-01],\n",
       "       [  7.23717784e-01,   4.90886587e-01],\n",
       "       [  3.25431160e-01,   9.33551083e-01],\n",
       "       [  5.13807894e-02,   9.84516551e-01],\n",
       "       [  1.00000000e+10,   2.39006829e-01],\n",
       "       [  5.82627862e-01,   1.00000000e+10]])"
      ]
     },
     "execution_count": 84,
     "metadata": {},
     "output_type": "execute_result"
    }
   ],
   "source": [
    "badMat"
   ]
  },
  {
   "cell_type": "code",
   "execution_count": 85,
   "metadata": {},
   "outputs": [
    {
     "data": {
      "text/plain": [
       "array([[ -1.00000000e+10,  -0.00000000e+00],\n",
       "       [ -8.21634691e-01,  -1.00000000e+10],\n",
       "       [  0.00000000e+00,   0.00000000e+00],\n",
       "       [  0.00000000e+00,   0.00000000e+00],\n",
       "       [ -0.00000000e+00,  -0.00000000e+00],\n",
       "       [  0.00000000e+00,   0.00000000e+00],\n",
       "       [  0.00000000e+00,  -0.00000000e+00],\n",
       "       [  0.00000000e+00,   0.00000000e+00],\n",
       "       [ -0.00000000e+00,  -0.00000000e+00],\n",
       "       [  0.00000000e+00,   0.00000000e+00]])"
      ]
     },
     "execution_count": 85,
     "metadata": {},
     "output_type": "execute_result"
    }
   ],
   "source": [
    "#Just look at the lower matrix\n",
    "householdersame(badMat)[1]"
   ]
  },
  {
   "cell_type": "code",
   "execution_count": 86,
   "metadata": {},
   "outputs": [
    {
     "data": {
      "text/plain": [
       "array([[  1.00000000e+10,   2.39006829e-01],\n",
       "       [  5.82627862e-01,   1.00000000e+10],\n",
       "       [ -1.60930000e-06,   5.69735992e-01],\n",
       "       [ -2.29480000e-06,   8.39130381e-01],\n",
       "       [ -2.50340000e-06,   8.82079434e-01],\n",
       "       [ -1.38580000e-06,   4.90886586e-01],\n",
       "       [ -2.38420000e-06,   9.33551083e-01],\n",
       "       [ -2.62260000e-06,   9.84516552e-01],\n",
       "       [ -2.38420000e-06,   8.62741508e-01],\n",
       "       [ -2.64500000e-07,   9.59556271e-02]])"
      ]
     },
     "execution_count": 86,
     "metadata": {},
     "output_type": "execute_result"
    }
   ],
   "source": [
    "#Just look at the lower matrix\n",
    "householderopposite(badMat)[1]"
   ]
  }
 ],
 "metadata": {
  "kernelspec": {
   "display_name": "Python 2",
   "language": "python",
   "name": "python2"
  },
  "language_info": {
   "codemirror_mode": {
    "name": "ipython",
    "version": 2
   },
   "file_extension": ".py",
   "mimetype": "text/x-python",
   "name": "python",
   "nbconvert_exporter": "python",
   "pygments_lexer": "ipython2",
   "version": "2.7.14"
  }
 },
 "nbformat": 4,
 "nbformat_minor": 2
}
